{
  "nbformat": 4,
  "nbformat_minor": 0,
  "metadata": {
    "kernelspec": {
      "display_name": "Python 3",
      "language": "python",
      "name": "python3"
    },
    "language_info": {
      "codemirror_mode": {
        "name": "ipython",
        "version": 3
      },
      "file_extension": ".py",
      "mimetype": "text/x-python",
      "name": "python",
      "nbconvert_exporter": "python",
      "pygments_lexer": "ipython3",
      "version": "3.7.5"
    },
    "colab": {
      "name": "2019_2_FinalProject.ipynb의 사본의 사본",
      "provenance": [],
      "collapsed_sections": [],
      "include_colab_link": true
    }
  },
  "cells": [
    {
      "cell_type": "markdown",
      "metadata": {
        "id": "view-in-github",
        "colab_type": "text"
      },
      "source": [
        "<a href=\"https://colab.research.google.com/github/jae-wook-lee/-/blob/master/2019_2_FinalProject_ipynb%EC%9D%98_%EC%82%AC%EB%B3%B8%EC%9D%98_%EC%82%AC%EB%B3%B8.ipynb\" target=\"_parent\"><img src=\"https://colab.research.google.com/assets/colab-badge.svg\" alt=\"Open In Colab\"/></a>"
      ]
    },
    {
      "cell_type": "markdown",
      "metadata": {
        "id": "QI3PL_AeqOLG",
        "colab_type": "text"
      },
      "source": [
        "[![Open In Colab](https://colab.research.google.com/assets/colab-badge.svg)](https://colab.research.google.com/github/SeoulTechPSE/EngMath/blob/master/etcs/2019_2_FinalProject.ipynb)"
      ]
    },
    {
      "cell_type": "markdown",
      "metadata": {
        "id": "yjUXfNn4qOLJ",
        "colab_type": "text"
      },
      "source": [
        "## Laplace's Equation in the Sphere"
      ]
    },
    {
      "cell_type": "markdown",
      "metadata": {
        "id": "MJauc1G8qOLK",
        "colab_type": "text"
      },
      "source": [
        "We consider the boundary value problem\n",
        "\n",
        ">$\\begin{align*}\n",
        " u_{rr} +\\frac{2}{r} u_r &+\\frac{1}{r^2}u_{\\phi\\phi} +\\frac{\\cot\\phi}{r^2} u_{\\phi} +\\frac{1}{r^2\\sin^2\\phi}u_{\\theta\\theta} = 0, \\;\\; r < R \\\\ \n",
        " u(R,\\phi,\\theta) &= g(\\phi,\\theta)\\\\ \n",
        "\\end{align*}$\n",
        "\n",
        "in a sphere of radius $R$. (a) Solve this problem by separation of variables, (b) derive $K(r,\\phi,\\theta; R,\\varphi,\\vartheta)$ in the equivalent integral formula:\n",
        "\n",
        ">$\\displaystyle u(r,\\phi,\\theta) = \\int_0^{2\\pi} \\int_0^\\pi K(r,\\phi,\\theta; R,\\varphi,\\vartheta)\\, g(\\varphi,\\vartheta) \\sin\\varphi \\,d\\varphi \\, d\\vartheta$\n",
        "\n",
        "r에 무관하므로 변수분리하면\n",
        "\n",
        ">$\\begin{align*}\n",
        " u(x,t) = \\Phi(\\phi) \\Theta(\\theta)\n",
        "\\end{align*}$\n",
        "\n",
        "\n",
        "     이고 대입하여 전체를 R로 나눠주면\n",
        "\n",
        "\n",
        ">$\\begin{align*}\n",
        " \\frac{1}{R} \\frac{d}{dr}(r^2\\frac{dR}{dr}) + \\frac{1}{\\Theta sin\\theta}\\frac{d}{d\\theta}(sin\\theta\\frac{d\\Theta}{d\\theta}) = 0\n",
        "\\end{align*}$\n",
        "\n",
        "첫째 항은 r에만 둘째항은 θ에만 의존하므로 각 항은 상수이다.\n",
        "\n",
        ">$\\begin{align*}\n",
        " \\frac{1}{R}\\frac{d}{dr}(r^2 \\frac{dR}{dr}) + \\frac{1}{\\Theta sind\\theta} \\frac{d}{d\\theta}(sin\\theta \\frac{d\\Theta}{d\\theta})\n",
        "\\end{align*}$\n",
        "\n",
        ">$\\begin{align*}\n",
        " \\frac{1}{R}\\frac{d}{dr}(r^2 \\frac{dR}{dr}) = l(l+1)\n",
        "\\end{align*}$\n",
        "\n",
        ">$\\begin{align*}\n",
        "\\frac{1}{\\Theta sind\\theta} \\frac{d}{d\\theta}(sin\\theta \\frac{d\\Theta}{d\\theta}) = -l(l1+1)\n",
        "\\end{align*}$\n",
        "\n",
        "여기서  l(l+1)는 분리상수이다. 변수분리로 편미분방정식이 상미분방정식으로 바뀐다.\n",
        ">$\\begin{align*}\n",
        "\\frac{d}{dr}(r^2 \\frac{dR}{dr}) = l(l+1)R\n",
        "\\end{align*}$\n",
        "\n",
        "위 상미분방정식의 해는 다음과 같다\n",
        "\n",
        ">$\\begin{align*}\n",
        "R(r) = Ar^l + \\frac{B}{r^l+1}\n",
        "\\end{align*}$\n",
        "(A ,B는 적분상수)\n",
        "\n",
        "두번째 Θ에 관한 방정식은 다음과 같다.\n",
        ">$\\begin{align*}\n",
        "\\frac{d}{d\\theta}(sin\\theta \\frac{d\\Theta}{d\\theta}) = -l(l1+1)sin\\theta \\Theta\n",
        "\\end{align*}$\n",
        "\n",
        "이 방정식의 해는 \n",
        ">$\\begin{align*}\n",
        "\\Theta(\\theta) = P_{l}(cos\\theta)\n",
        "\\end{align*}$\n",
        "이다.\n",
        "\n",
        "이를 Rodrigues 공식으로 정리하면 다음과 같이 나타낼 수 있다.\n",
        ">$\\begin{align*}\n",
        "P_{l}(cos\\theta) = \\frac{1}{2!l!}(\\frac{d}{dx})^l (x^2-1)^l\n",
        "\\end{align*}$\n",
        "\n",
        "르잔드르 polynomia에서 P_{l}은 l차 다항식으로 l이 짝수이면 모두 짝수, 홀수이면 모두 홀수다.\n",
        "\n",
        "로드리그 공식은 l이 양의 정수일 때만 쓸 수 있고 하나의 해만 나오지만 그러나 이 식은 미분방적식으로 l값마다 독립적인 해가 둘씩 있다. 그런데 둘째 해는 \n",
        "θ=0, θ=π에서 발산하므로 물리적 해로 볼 수 없다.\n",
        "\n",
        "ex) 둘째 해\n",
        ">$\\begin{align*}\n",
        "\\Theta(\\theta) = ln(tan\\frac{\\theta}{2})\n",
        "\\end{align*}$\n",
        "\n",
        "회전대칭성이 있으면 라플라스 방정식의 변수분리의 해 가운데 최소한의 물리적인 조건을 충족하는 일반해는 다음과 같다.\n",
        "\n",
        ">$\\begin{align*}\n",
        "U(r,\\theta) = (Ar^l + \\frac{B}{r^l+1})P_{l}(cos\\theta)\n",
        "\\end{align*}$\n",
        "\n",
        "l값에 따라 각각 해가 하나씩 나오므로 일반해는 다음과 같다\n",
        "\n",
        ">$\\begin{align*}\n",
        "U(r,\\theta) = \\Sigma(Ar^l + \\frac{B}{r^l+1})P_{l}(cos\\theta)\n",
        "\\end{align*}$"
      ]
    },
    {
      "cell_type": "markdown",
      "metadata": {
        "id": "Z96wsX0KqOLK",
        "colab_type": "text"
      },
      "source": [
        "## Poisson's Equation for the Sphere"
      ]
    },
    {
      "cell_type": "code",
      "metadata": {
        "id": "Y1JhUk_x5NsW",
        "colab_type": "code",
        "colab": {}
      },
      "source": [
        ""
      ],
      "execution_count": 0,
      "outputs": []
    },
    {
      "cell_type": "markdown",
      "metadata": {
        "id": "ideEvQ8AqOLL",
        "colab_type": "text"
      },
      "source": [
        "We consider the problem\n",
        "\n",
        ">$\\begin{align*}\n",
        " u_{rr} +\\frac{2}{r} u_r &+\\frac{1}{r^2}u_{\\phi\\phi} +\\frac{\\cot\\phi}{r^2} u_{\\phi} +\\frac{1}{r^2\\sin^2\\phi}u_{\\theta\\theta} = -F(r,\\phi,\\theta), \\;\\; r < R \\\\ \n",
        " u(R,\\phi,\\theta) &= 0\\\\ \n",
        "\\end{align*}$\n",
        "\n",
        "(a) solve by taking the finite Fourier Transforms, (b) derive $G(r,\\phi,\\theta; \\rho,\\varphi,\\vartheta)$ in the equivalent integral formula:\n",
        "\n",
        ">$\\displaystyle u(r,\\phi,\\theta) = \\int_0^{2\\pi} \\int_0^\\pi \\int_0^R G(r,\\phi,\\theta; \\rho,\\varphi,\\vartheta)\\, F(\\rho, \\varphi,\\vartheta) \\,\\rho^2 \\sin\\varphi \\,d\\rho \\,d\\varphi \\, d\\vartheta$\n",
        "\n",
        "r에 대하여 finite transform을 하면\n",
        "\n"
      ]
    }
  ]
}